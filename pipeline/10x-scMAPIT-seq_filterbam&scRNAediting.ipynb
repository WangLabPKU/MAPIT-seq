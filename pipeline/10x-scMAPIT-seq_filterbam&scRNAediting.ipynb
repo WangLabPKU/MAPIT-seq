{
 "cells": [
  {
   "cell_type": "code",
   "execution_count": 1,
   "metadata": {},
   "outputs": [],
   "source": [
    "import pandas as pd\n",
    "import numpy as np\n",
    "import pysam\n",
    "import os"
   ]
  },
  {
   "cell_type": "markdown",
   "metadata": {},
   "source": [
    "### Part_1: BAM filtering cells"
   ]
  },
  {
   "cell_type": "code",
   "execution_count": 2,
   "metadata": {},
   "outputs": [],
   "source": [
    "df_barcode=pd.read_csv(\"/home/gangx/data/CQX/240612/barcode.tsv\",sep=\"\\t\",index_col=0)"
   ]
  },
  {
   "cell_type": "code",
   "execution_count": 3,
   "metadata": {},
   "outputs": [
    {
     "data": {
      "text/plain": [
       "AAACCCAAGCAGGCAT-Anti-G3BP1    AAACCCAAGCAGGCAT\n",
       "AAACCCACAGTATACC-Anti-G3BP1    AAACCCACAGTATACC\n",
       "AAACCCACAGTTTGGT-Anti-G3BP1    AAACCCACAGTTTGGT\n",
       "AAACCCATCGGTAGGA-Anti-G3BP1    AAACCCATCGGTAGGA\n",
       "AAACGAAAGCGGTAGT-Anti-G3BP1    AAACGAAAGCGGTAGT\n",
       "                                     ...       \n",
       "TTTGGTTTCCCGTAAA-Anti-G3BP1    TTTGGTTTCCCGTAAA\n",
       "TTTGTTGAGGTGCTGA-Anti-G3BP1    TTTGTTGAGGTGCTGA\n",
       "TTTGTTGCAAATACGA-Anti-G3BP1    TTTGTTGCAAATACGA\n",
       "TTTGTTGGTTAGAAGT-Anti-G3BP1    TTTGTTGGTTAGAAGT\n",
       "TTTGTTGTCCATTTGT-Anti-G3BP1    TTTGTTGTCCATTTGT\n",
       "Name: barcode, Length: 3400, dtype: object"
      ]
     },
     "execution_count": 3,
     "metadata": {},
     "output_type": "execute_result"
    }
   ],
   "source": [
    "df_barcode[df_barcode['batch']==\"Anti-G3BP1\"]['barcode']"
   ]
  },
  {
   "cell_type": "code",
   "execution_count": 4,
   "metadata": {},
   "outputs": [],
   "source": [
    "G_set=set(df_barcode[df_barcode['batch']==\"Anti-G3BP1\"]['barcode'])"
   ]
  },
  {
   "cell_type": "code",
   "execution_count": 5,
   "metadata": {},
   "outputs": [],
   "source": [
    "bam=pysam.AlignmentFile(\"/home/gangx/data/CQX/240612/align/STARsolo.G.Aligned.sortedByCoord.out.bam\",\"rb\")\n",
    "bam_filtered=pysam.AlignmentFile(\"/home/gangx/data/CQX/240612/fileredbam/G.bam\", \"wb\", template=bam)\n",
    "for read in bam:\n",
    "    if read.is_secondary:  # not the primary alignment\n",
    "        continue\n",
    "    elif read.get_tag(\"UB\")==\"-\":\n",
    "        continue\n",
    "    elif read.get_tag(\"CB\") in G_set:\n",
    "        bam_filtered.write(read)\n",
    "bam_filtered.close()\n",
    "bam.close()"
   ]
  },
  {
   "cell_type": "code",
   "execution_count": 6,
   "metadata": {},
   "outputs": [],
   "source": [
    "I_set=set(df_barcode[df_barcode['batch']==\"IgG\"]['barcode'])"
   ]
  },
  {
   "cell_type": "code",
   "execution_count": 7,
   "metadata": {},
   "outputs": [],
   "source": [
    "bam=pysam.AlignmentFile(\"/home/gangx/data/CQX/240612/align/STARsolo.I.Aligned.sortedByCoord.out.bam\",\"rb\")\n",
    "bam_filtered=pysam.AlignmentFile(\"/home/gangx/data/CQX/240612/fileredbam/I.bam\", \"wb\", template=bam)\n",
    "for read in bam:\n",
    "    if read.is_secondary:  # not the primary alignment\n",
    "        continue\n",
    "    elif read.get_tag(\"UB\")==\"-\":\n",
    "        continue\n",
    "    elif read.get_tag(\"CB\") in I_set:\n",
    "        bam_filtered.write(read)\n",
    "bam_filtered.close()\n",
    "bam.close()"
   ]
  },
  {
   "cell_type": "markdown",
   "metadata": {},
   "source": [
    "### Part_2: single-cell RNA editing analysis"
   ]
  },
  {
   "cell_type": "code",
   "execution_count": 4,
   "metadata": {},
   "outputs": [],
   "source": [
    "import subprocess\n",
    "import multiprocessing\n",
    "from tqdm import tqdm"
   ]
  },
  {
   "cell_type": "code",
   "execution_count": 9,
   "metadata": {},
   "outputs": [],
   "source": [
    "def scredi(tbam):\n",
    "    path=os.path.dirname(tbam)\n",
    "    tbamfile=os.path.basename(tbam)\n",
    "    newtbamfile=path+\"/\"+tbamfile[8:-4]+\"/\"+tbamfile\n",
    "    if not os.path.exists(path+\"/\"+tbamfile[8:-4]):\n",
    "        os.makedirs(path+\"/\"+tbamfile[8:-4])\n",
    "        os.system(\"mv %s %s\"%(tbam,newtbamfile))\n",
    "        os.system(\"samtools index \"+newtbamfile)\n",
    "    command=\"python /home/gangx/apps/reditools2.0/src/cineca/reditools.py -f {newtbamfile} -q 0 -bq 20 \\\n",
    "            -r {fasta} -o {prefix}/reditools2.txt\".format(newtbamfile=newtbamfile, prefix=path+\"/\"+tbamfile[8:-4],fasta=\"/home/gangx/data/Reference/GRCh38/GRCh38.p13.genome.pri.fa\")\n",
    "    out=open(path+\"/\"+tbamfile[8:-4]+\"/reditools2.log\",'w')\n",
    "    ps=subprocess.Popen(command,shell=True,stdout=out,stderr=out)\n",
    "    signal=ps.wait()\n",
    "    out.close()"
   ]
  },
  {
   "cell_type": "code",
   "execution_count": 28,
   "metadata": {},
   "outputs": [],
   "source": [
    "scredi(\"/home/gangx/data/CQX/240612/splitbam/G/.TAG_CB_AACCACAGTTGCAAGG.bam\")"
   ]
  },
  {
   "cell_type": "code",
   "execution_count": 5,
   "metadata": {},
   "outputs": [],
   "source": [
    "tbamlist=[\"/home/gangx/data/CQX/240612/splitbam/G/\"+i for i in list(filter(lambda x:x.find(\"bam\")>=0,os.listdir(\"/home/gangx/data/CQX/240612/splitbam/G\")))]"
   ]
  },
  {
   "cell_type": "code",
   "execution_count": 6,
   "metadata": {},
   "outputs": [],
   "source": [
    "tbamlist=tbamlist+[\"/home/gangx/data/CQX/240612/splitbam/I/\"+i for i in list(filter(lambda x:x.find(\"bam\")>=0,os.listdir(\"/home/gangx/data/CQX/240612/splitbam/I\")))]"
   ]
  },
  {
   "cell_type": "code",
   "execution_count": 17,
   "metadata": {},
   "outputs": [],
   "source": [
    "def checkscredi(barcode):\n",
    "    file=open(\"/home/gangx/data/CQX/240612/splitbam/G/\"+barcode+\"/reditools2.log\",\"r\")\n",
    "    if not \"FINAL END=\" in file.readlines()[-1]:\n",
    "        print(barcode)\n",
    "        scredi(\"/home/gangx/data/CQX/240612/splitbam/G/.TAG_CB_\"+barcode+\".bam\")\n",
    "    else:\n",
    "        return 1"
   ]
  },
  {
   "cell_type": "code",
   "execution_count": null,
   "metadata": {},
   "outputs": [],
   "source": [
    "with multiprocessing.Pool(40) as pool:\n",
    "    r = list(tqdm(pool.imap(scredi, sorted(tbamlist)), total=len(tbamlist)))"
   ]
  },
  {
   "cell_type": "code",
   "execution_count": 29,
   "metadata": {},
   "outputs": [],
   "source": [
    "def checkscredi(barcode):\n",
    "    file=open(\"/home/gangx/data/CQX/240612/splitbam/I/\"+barcode+\"/reditools2.log\",\"r\")\n",
    "    if not \"FINAL END=\" in file.readlines()[-1]:\n",
    "        print(barcode)\n",
    "        scredi(\"/home/gangx/data/CQX/240612/splitbam/I/.TAG_CB_\"+barcode+\".bam\")\n",
    "    else:\n",
    "        return 1"
   ]
  },
  {
   "cell_type": "code",
   "execution_count": null,
   "metadata": {},
   "outputs": [],
   "source": [
    "pbar = tqdm(total=len(tbamlist))\n",
    "pbar.set_description('scredi-check')\n",
    "update = lambda *args: pbar.update()\n",
    "\n",
    "n_proc = 5\n",
    "pool = multiprocessing.Pool(40)\n",
    "for tbam in sorted(tbamlist):\n",
    "    pool.apply_async(checkscredi, (tbam,), callback=update)\n",
    "pool.close()\n",
    "pool.join()"
   ]
  }
 ],
 "metadata": {
  "kernelspec": {
   "display_name": "pacbio",
   "language": "python",
   "name": "python3"
  },
  "language_info": {
   "codemirror_mode": {
    "name": "ipython",
    "version": 3
   },
   "file_extension": ".py",
   "mimetype": "text/x-python",
   "name": "python",
   "nbconvert_exporter": "python",
   "pygments_lexer": "ipython3",
   "version": "3.9.19"
  }
 },
 "nbformat": 4,
 "nbformat_minor": 2
}
